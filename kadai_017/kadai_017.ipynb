{
  "nbformat": 4,
  "nbformat_minor": 0,
  "metadata": {
    "colab": {
      "provenance": []
    },
    "kernelspec": {
      "name": "python3",
      "display_name": "Python 3"
    },
    "language_info": {
      "name": "python"
    }
  },
  "cells": [
    {
      "cell_type": "code",
      "source": [
        "class Human:\n",
        "  def __init__(self, age):\n",
        "    self.age = age\n",
        "  def check_adult(self):\n",
        "    if self.age >= 20:\n",
        "      print(\"大人\")\n",
        "    else:\n",
        "      print(\"大人ではない\")\n",
        "\n",
        "human_age = [59, 16, 5 ,20]\n",
        "for age in human_age:\n",
        "  human = Human(age)\n",
        "  human.check_adult()"
      ],
      "metadata": {
        "colab": {
          "base_uri": "https://localhost:8080/"
        },
        "id": "gubdTh09RwGh",
        "outputId": "7ca9e1b1-17bd-478a-91bd-102be2461428"
      },
      "execution_count": 3,
      "outputs": [
        {
          "output_type": "stream",
          "name": "stdout",
          "text": [
            "大人\n",
            "大人ではない\n",
            "大人ではない\n",
            "大人\n"
          ]
        }
      ]
    }
  ]
}