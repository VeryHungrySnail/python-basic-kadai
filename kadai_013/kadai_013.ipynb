{
  "nbformat": 4,
  "nbformat_minor": 0,
  "metadata": {
    "colab": {
      "provenance": []
    },
    "kernelspec": {
      "name": "python3",
      "display_name": "Python 3"
    },
    "language_info": {
      "name": "python"
    }
  },
  "cells": [
    {
      "cell_type": "code",
      "execution_count": 10,
      "metadata": {
        "colab": {
          "base_uri": "https://localhost:8080/"
        },
        "id": "F7sIADWnBRS1",
        "outputId": "1207ef3c-4961-4f66-b8e1-207733690bd9"
      },
      "outputs": [
        {
          "output_type": "execute_result",
          "data": {
            "text/plain": [
              "121.00000000000001"
            ]
          },
          "metadata": {},
          "execution_count": 10
        }
      ],
      "source": [
        "def add_tax(amount, tax):\n",
        "  tax_calc = 1 + (tax /100)\n",
        "  return(amount * tax_calc)\n",
        "\n",
        "add_tax(110,10)"
      ]
    }
  ]
}