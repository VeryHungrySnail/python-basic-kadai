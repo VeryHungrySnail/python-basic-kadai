{
  "nbformat": 4,
  "nbformat_minor": 0,
  "metadata": {
    "colab": {
      "provenance": []
    },
    "kernelspec": {
      "name": "python3",
      "display_name": "Python 3"
    },
    "language_info": {
      "name": "python"
    }
  },
  "cells": [
    {
      "cell_type": "code",
      "execution_count": 46,
      "metadata": {
        "colab": {
          "base_uri": "https://localhost:8080/"
        },
        "id": "0BP0eCpV7BCT",
        "outputId": "36d1b777-f391-499f-b369-1555caba9510"
      },
      "outputs": [
        {
          "output_type": "stream",
          "name": "stdout",
          "text": [
            "水\n",
            "金\n",
            "地\n",
            "火\n",
            "木\n",
            "土\n",
            "天\n",
            "海\n",
            "冥\n",
            "水\n",
            "金\n",
            "地\n",
            "火\n",
            "木\n",
            "土\n",
            "天\n",
            "海\n",
            "冥\n"
          ]
        }
      ],
      "source": [
        "array = [\"水\", \"金\", \"地\", \"火\", \"木\", \"土\", \"天\", \"海\", \"冥\"]\n",
        "\n",
        "for i in array:\n",
        "  print(i)\n",
        "\n",
        "i = 0\n",
        "count = 0\n",
        "while count < len(array):\n",
        "      print(array[i])\n",
        "      count += 1\n",
        "      i += 1"
      ]
    },
    {
      "cell_type": "code",
      "source": [],
      "metadata": {
        "id": "Auq9xyVxAKqX"
      },
      "execution_count": null,
      "outputs": []
    }
  ]
}