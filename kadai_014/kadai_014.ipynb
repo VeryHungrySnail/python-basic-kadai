{
  "nbformat": 4,
  "nbformat_minor": 0,
  "metadata": {
    "colab": {
      "provenance": []
    },
    "kernelspec": {
      "name": "python3",
      "display_name": "Python 3"
    },
    "language_info": {
      "name": "python"
    }
  },
  "cells": [
    {
      "cell_type": "code",
      "source": [
        "price1 = 100\n",
        "price2 = 200\n",
        "#taxをグローバルスコープで定義\n",
        "tax = 1.1\n",
        "\n",
        "def total():\n",
        "  #今回はローカルスコープ内のtax定義は不要のためコメントアウト\n",
        "  #tax = 1.1\n",
        "  return price1 + price2\n",
        "\n",
        "print (total() * tax)"
      ],
      "metadata": {
        "colab": {
          "base_uri": "https://localhost:8080/"
        },
        "id": "3aLWsWKoG6nW",
        "outputId": "f59341a1-6fbd-4fe2-d963-03faf0751d19"
      },
      "execution_count": 26,
      "outputs": [
        {
          "output_type": "stream",
          "name": "stdout",
          "text": [
            "330.0\n"
          ]
        }
      ]
    }
  ]
}