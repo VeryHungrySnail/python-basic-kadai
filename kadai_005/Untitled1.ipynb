{
  "nbformat": 4,
  "nbformat_minor": 0,
  "metadata": {
    "colab": {
      "provenance": []
    },
    "kernelspec": {
      "name": "python3",
      "display_name": "Python 3"
    },
    "language_info": {
      "name": "python"
    }
  },
  "cells": [
    {
      "cell_type": "code",
      "source": [
        "upper = 10\n",
        "bottom = 20\n",
        "height = 5\n",
        "area = (upper + bottom) * height / 2\n",
        "\n",
        "print(f\"{area}㎠\")"
      ],
      "metadata": {
        "colab": {
          "base_uri": "https://localhost:8080/"
        },
        "id": "FAZC-nbKEqsI",
        "outputId": "b4f2bf56-75a0-4b71-d81d-cf116228a02e"
      },
      "execution_count": 33,
      "outputs": [
        {
          "output_type": "stream",
          "name": "stdout",
          "text": [
            "75.0㎠\n"
          ]
        }
      ]
    }
  ]
}