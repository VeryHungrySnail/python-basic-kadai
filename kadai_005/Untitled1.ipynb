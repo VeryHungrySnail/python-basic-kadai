{
  "nbformat": 4,
  "nbformat_minor": 0,
  "metadata": {
    "colab": {
      "provenance": []
    },
    "kernelspec": {
      "name": "python3",
      "display_name": "Python 3"
    },
    "language_info": {
      "name": "python"
    }
  },
  "cells": [
    {
      "cell_type": "code",
      "source": [
        "upper = 10\n",
        "bottom = 20\n",
        "height = 5\n",
        "\n",
        "print(f\"{(upper + bottom) * height / 2}㎠\")"
      ],
      "metadata": {
        "colab": {
          "base_uri": "https://localhost:8080/"
        },
        "id": "FAZC-nbKEqsI",
        "outputId": "18cfb74c-016f-41d4-cc74-38f66e58ee98"
      },
      "execution_count": 32,
      "outputs": [
        {
          "output_type": "stream",
          "name": "stdout",
          "text": [
            "75.0㎠\n"
          ]
        }
      ]
    }
  ]
}